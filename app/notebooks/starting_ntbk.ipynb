{
 "cells": [
  {
   "metadata": {
    "_cell_guid": "99db660a-119b-4720-b7db-7e3ebbb80d80",
    "_uuid": "d390300d4c49a69634911ae2f56d770cac96c232",
    "_execution_state": "idle",
    "collapsed": true,
    "trusted": false,
    "ExecuteTime": {
     "end_time": "2023-07-13T21:22:05.193606300Z",
     "start_time": "2023-07-13T21:22:05.049215800Z"
    }
   },
   "cell_type": "code",
   "source": [
    "# Imports\n",
    "import os\n",
    "\n",
    "import matplotlib.pyplot as plt\n",
    "# numpy, matplotlib, seaborn\n",
    "import numpy as np\n",
    "# pandas\n",
    "import pandas as pd\n",
    "import seaborn as sns\n",
    "from pandas import DataFrame\n",
    "\n",
    "sns.set_style('whitegrid')\n",
    "%matplotlib inline\n",
    "\n",
    "# machine learning\n",
    "from sklearn.linear_model import LogisticRegression\n",
    "from sklearn.svm import SVC\n",
    "from sklearn.ensemble import RandomForestClassifier, GradientBoostingClassifier"
   ],
   "execution_count": 1,
   "outputs": []
  },
  {
   "metadata": {
    "_cell_guid": "29d2c2ce-cb68-40fc-928e-60af3b8c8958",
    "_uuid": "39f37ec345fdabbc16e109345a1ae5b591bbddc0",
    "collapsed": true,
    "trusted": false,
    "ExecuteTime": {
     "end_time": "2023-07-13T21:22:05.199938700Z",
     "start_time": "2023-07-13T21:22:05.194606300Z"
    }
   },
   "cell_type": "code",
   "source": [
    "# Get the path of the current notebook execution folder\n",
    "current_folder = os.getcwd()\n",
    "\n",
    "# Path of \"input/test\" folder in the same current folder\n",
    "folder_path = os.path.join(current_folder, \"input\")\n",
    "\n",
    "# get titanic & test csv files as a DataFrame\n",
    "titanic_df = pd.read_csv(os.path.join(folder_path, \"train.csv\"))\n",
    "test_df = pd.read_csv(os.path.join(folder_path, \"test.csv\"))"
   ],
   "execution_count": 2,
   "outputs": []
  },
  {
   "metadata": {
    "_cell_guid": "b3d18fa2-bab7-4a8c-89c5-a7f57a7b808b",
    "_uuid": "07b7d5f4d5ac989164ddec4d7ca05cf29677d8db",
    "trusted": false,
    "collapsed": true,
    "ExecuteTime": {
     "end_time": "2023-07-13T21:22:05.209029100Z",
     "start_time": "2023-07-13T21:22:05.202455600Z"
    }
   },
   "cell_type": "code",
   "source": [
    "# preview the data\n",
    "titanic_df.head()"
   ],
   "execution_count": 3,
   "outputs": [
    {
     "data": {
      "text/plain": "   PassengerId  Survived  Pclass  \\\n0            1         0       3   \n1            2         1       1   \n2            3         1       3   \n3            4         1       1   \n4            5         0       3   \n\n                                                Name     Sex   Age  SibSp  \\\n0                            Braund, Mr. Owen Harris    male  22.0      1   \n1  Cumings, Mrs. John Bradley (Florence Briggs Th...  female  38.0      1   \n2                             Heikkinen, Miss. Laina  female  26.0      0   \n3       Futrelle, Mrs. Jacques Heath (Lily May Peel)  female  35.0      1   \n4                           Allen, Mr. William Henry    male  35.0      0   \n\n   Parch            Ticket     Fare Cabin Embarked  \n0      0         A/5 21171   7.2500   NaN        S  \n1      0          PC 17599  71.2833   C85        C  \n2      0  STON/O2. 3101282   7.9250   NaN        S  \n3      0            113803  53.1000  C123        S  \n4      0            373450   8.0500   NaN        S  ",
      "text/html": "<div>\n<style scoped>\n    .dataframe tbody tr th:only-of-type {\n        vertical-align: middle;\n    }\n\n    .dataframe tbody tr th {\n        vertical-align: top;\n    }\n\n    .dataframe thead th {\n        text-align: right;\n    }\n</style>\n<table border=\"1\" class=\"dataframe\">\n  <thead>\n    <tr style=\"text-align: right;\">\n      <th></th>\n      <th>PassengerId</th>\n      <th>Survived</th>\n      <th>Pclass</th>\n      <th>Name</th>\n      <th>Sex</th>\n      <th>Age</th>\n      <th>SibSp</th>\n      <th>Parch</th>\n      <th>Ticket</th>\n      <th>Fare</th>\n      <th>Cabin</th>\n      <th>Embarked</th>\n    </tr>\n  </thead>\n  <tbody>\n    <tr>\n      <th>0</th>\n      <td>1</td>\n      <td>0</td>\n      <td>3</td>\n      <td>Braund, Mr. Owen Harris</td>\n      <td>male</td>\n      <td>22.0</td>\n      <td>1</td>\n      <td>0</td>\n      <td>A/5 21171</td>\n      <td>7.2500</td>\n      <td>NaN</td>\n      <td>S</td>\n    </tr>\n    <tr>\n      <th>1</th>\n      <td>2</td>\n      <td>1</td>\n      <td>1</td>\n      <td>Cumings, Mrs. John Bradley (Florence Briggs Th...</td>\n      <td>female</td>\n      <td>38.0</td>\n      <td>1</td>\n      <td>0</td>\n      <td>PC 17599</td>\n      <td>71.2833</td>\n      <td>C85</td>\n      <td>C</td>\n    </tr>\n    <tr>\n      <th>2</th>\n      <td>3</td>\n      <td>1</td>\n      <td>3</td>\n      <td>Heikkinen, Miss. Laina</td>\n      <td>female</td>\n      <td>26.0</td>\n      <td>0</td>\n      <td>0</td>\n      <td>STON/O2. 3101282</td>\n      <td>7.9250</td>\n      <td>NaN</td>\n      <td>S</td>\n    </tr>\n    <tr>\n      <th>3</th>\n      <td>4</td>\n      <td>1</td>\n      <td>1</td>\n      <td>Futrelle, Mrs. Jacques Heath (Lily May Peel)</td>\n      <td>female</td>\n      <td>35.0</td>\n      <td>1</td>\n      <td>0</td>\n      <td>113803</td>\n      <td>53.1000</td>\n      <td>C123</td>\n      <td>S</td>\n    </tr>\n    <tr>\n      <th>4</th>\n      <td>5</td>\n      <td>0</td>\n      <td>3</td>\n      <td>Allen, Mr. William Henry</td>\n      <td>male</td>\n      <td>35.0</td>\n      <td>0</td>\n      <td>0</td>\n      <td>373450</td>\n      <td>8.0500</td>\n      <td>NaN</td>\n      <td>S</td>\n    </tr>\n  </tbody>\n</table>\n</div>"
     },
     "execution_count": 3,
     "metadata": {},
     "output_type": "execute_result"
    }
   ]
  },
  {
   "metadata": {
    "_cell_guid": "d6d425da-9c2d-4de3-94c7-9d83b236a814",
    "_uuid": "385207a7ae040a51fe47e38bee31f58fefe26ef2",
    "trusted": false,
    "collapsed": true,
    "ExecuteTime": {
     "end_time": "2023-07-13T21:22:05.228246800Z",
     "start_time": "2023-07-13T21:22:05.212536900Z"
    }
   },
   "cell_type": "code",
   "source": [
    "print(titanic_df.info())\n",
    "print(\"----------------------------\")\n",
    "print(test_df.info())"
   ],
   "execution_count": 4,
   "outputs": [
    {
     "name": "stdout",
     "output_type": "stream",
     "text": [
      "<class 'pandas.core.frame.DataFrame'>\n",
      "RangeIndex: 891 entries, 0 to 890\n",
      "Data columns (total 12 columns):\n",
      " #   Column       Non-Null Count  Dtype  \n",
      "---  ------       --------------  -----  \n",
      " 0   PassengerId  891 non-null    int64  \n",
      " 1   Survived     891 non-null    int64  \n",
      " 2   Pclass       891 non-null    int64  \n",
      " 3   Name         891 non-null    object \n",
      " 4   Sex          891 non-null    object \n",
      " 5   Age          714 non-null    float64\n",
      " 6   SibSp        891 non-null    int64  \n",
      " 7   Parch        891 non-null    int64  \n",
      " 8   Ticket       891 non-null    object \n",
      " 9   Fare         891 non-null    float64\n",
      " 10  Cabin        204 non-null    object \n",
      " 11  Embarked     889 non-null    object \n",
      "dtypes: float64(2), int64(5), object(5)\n",
      "memory usage: 83.7+ KB\n",
      "None\n",
      "----------------------------\n",
      "<class 'pandas.core.frame.DataFrame'>\n",
      "RangeIndex: 418 entries, 0 to 417\n",
      "Data columns (total 11 columns):\n",
      " #   Column       Non-Null Count  Dtype  \n",
      "---  ------       --------------  -----  \n",
      " 0   PassengerId  418 non-null    int64  \n",
      " 1   Pclass       418 non-null    int64  \n",
      " 2   Name         418 non-null    object \n",
      " 3   Sex          418 non-null    object \n",
      " 4   Age          332 non-null    float64\n",
      " 5   SibSp        418 non-null    int64  \n",
      " 6   Parch        418 non-null    int64  \n",
      " 7   Ticket       418 non-null    object \n",
      " 8   Fare         417 non-null    float64\n",
      " 9   Cabin        91 non-null     object \n",
      " 10  Embarked     418 non-null    object \n",
      "dtypes: float64(2), int64(4), object(5)\n",
      "memory usage: 36.1+ KB\n",
      "None\n"
     ]
    }
   ]
  },
  {
   "metadata": {
    "_cell_guid": "8342ac2c-a07c-495f-bec4-30acf480a6ab",
    "_uuid": "835f484bb1c50eb4c193604bb49ddbf4afcb2e6e",
    "collapsed": true,
    "trusted": false,
    "ExecuteTime": {
     "end_time": "2023-07-13T21:22:05.228246800Z",
     "start_time": "2023-07-13T21:22:05.218364300Z"
    }
   },
   "cell_type": "code",
   "source": [
    "# drop unnecessary columns, these columns won't be useful in analysis and prediction\n",
    "titanic_df = titanic_df.drop(['PassengerId', 'Name', 'Ticket'], axis=1)\n",
    "test_df = test_df.drop(['Name', 'Ticket'], axis=1)"
   ],
   "execution_count": 5,
   "outputs": []
  },
  {
   "metadata": {
    "_cell_guid": "6b9f0b1b-cf91-400a-8cc4-180b502f4390",
    "_uuid": "ac3845694f67af7e85367422c759496d37b65244",
    "trusted": false,
    "collapsed": true,
    "ExecuteTime": {
     "end_time": "2023-07-13T21:22:05.530067Z",
     "start_time": "2023-07-13T21:22:05.223247600Z"
    }
   },
   "cell_type": "code",
   "source": [
    "# Embarked\n",
    "\n",
    "# only in titanic_df, fill the two missing values with the most occurred value, which is \"S\".\n",
    "titanic_df[\"Embarked\"] = titanic_df[\"Embarked\"].fillna(\"S\")\n",
    "\n",
    "# plot\n",
    "sns.catplot(x='Embarked', y='Survived', data=titanic_df, height=4, aspect=3, kind='bar')\n",
    "\n",
    "fig, (axis1, axis2, axis3) = plt.subplots(1, 3, figsize=(15, 5))\n",
    "\n",
    "sns.countplot(x='Embarked', data=titanic_df, ax=axis1)\n",
    "sns.countplot(x='Survived', hue=\"Embarked\", data=titanic_df, order=[1, 0], ax=axis2)\n",
    "\n",
    "# group by embarked, and get the mean for survived passengers for each value in Embarked\n",
    "embark_perc = titanic_df[[\"Embarked\", \"Survived\"]].groupby(['Embarked'], as_index=False).mean()\n",
    "sns.barplot(x='Embarked', y='Survived', data=embark_perc, order=['S', 'C', 'Q'], ax=axis3)\n",
    "\n",
    "# Either to consider Embarked column in predictions,\n",
    "# and remove \"S\" dummy variable,\n",
    "# and leave \"C\" & \"Q\", since they seem to have a good rate for Survival.\n",
    "\n",
    "# OR, don't create dummy variables for Embarked column, just drop it,\n",
    "# because logically, Embarked doesn't seem to be useful in prediction.\n",
    "\n",
    "embark_dummies_titanic = pd.get_dummies(titanic_df['Embarked'])\n",
    "embark_dummies_titanic.drop(['S'], axis=1, inplace=True)\n",
    "\n",
    "embark_dummies_test = pd.get_dummies(test_df['Embarked'])\n",
    "embark_dummies_test.drop(['S'], axis=1, inplace=True)\n",
    "\n",
    "titanic_df = titanic_df.join(embark_dummies_titanic)\n",
    "test_df = test_df.join(embark_dummies_test)\n",
    "\n",
    "titanic_df.drop(['Embarked'], axis=1, inplace=True)\n",
    "test_df.drop(['Embarked'], axis=1, inplace=True)"
   ],
   "execution_count": 6,
   "outputs": [
    {
     "name": "stderr",
     "output_type": "stream",
     "text": [
      "D:\\Documentos\\GitHub\\Proyecto_CicloDeVida_UEM_TRAIN\\venv\\Lib\\site-packages\\seaborn\\axisgrid.py:118: UserWarning: The figure layout has changed to tight\n",
      "  self._figure.tight_layout(*args, **kwargs)\n"
     ]
    },
    {
     "data": {
      "text/plain": "<Figure size 1200x400 with 1 Axes>",
      "image/png": "[encoded data removed]"
     },
     "metadata": {},
     "output_type": "display_data"
    },
    {
     "data": {
      "text/plain": "<Figure size 1500x500 with 3 Axes>",
      "image/png": "[encoded data removed]"
     },
     "metadata": {},
     "output_type": "display_data"
    }
   ]
  },
  {
   "metadata": {
    "_cell_guid": "e8d6cb8e-dd37-4856-a9c8-13062bb04c5c",
    "_uuid": "44b111e103736c3f7207b9ad44fcb372319d2db2",
    "trusted": false,
    "collapsed": true,
    "ExecuteTime": {
     "end_time": "2023-07-13T21:22:05.751918100Z",
     "start_time": "2023-07-13T21:22:05.531573200Z"
    }
   },
   "cell_type": "code",
   "source": [
    "# Fare\n",
    "# only for test_df, since there is a missing \"Fare\" values\n",
    "test_df[\"Fare\"].fillna(test_df[\"Fare\"].mean(), inplace=True)\n",
    "\n",
    "# convert from float to int\n",
    "titanic_df['Fare'] = titanic_df['Fare'].astype(int)\n",
    "test_df['Fare'] = test_df['Fare'].astype(int)\n",
    "\n",
    "# get fare for survived & didn't survive passengers \n",
    "fare_not_survived = titanic_df[\"Fare\"][titanic_df[\"Survived\"] == 0]\n",
    "fare_survived = titanic_df[\"Fare\"][titanic_df[\"Survived\"] == 1]\n",
    "\n",
    "# get average and std for fare of survived/not survived passengers\n",
    "avgerage_fare = DataFrame([fare_not_survived.mean(), fare_survived.mean()])\n",
    "std_fare = DataFrame([fare_not_survived.std(), fare_survived.std()])\n",
    "\n",
    "# plot\n",
    "titanic_df['Fare'].plot(kind='hist', figsize=(15, 3), bins=100, xlim=(0, 50))\n",
    "\n",
    "avgerage_fare.index.names = std_fare.index.names = [\"Survived\"]\n",
    "avgerage_fare.plot(yerr=std_fare, kind='bar', legend=False)"
   ],
   "execution_count": 7,
   "outputs": [
    {
     "data": {
      "text/plain": "<Axes: xlabel='Survived'>"
     },
     "execution_count": 7,
     "metadata": {},
     "output_type": "execute_result"
    },
    {
     "data": {
      "text/plain": "<Figure size 1500x300 with 1 Axes>",
      "image/png": "[encoded data removed]"
     },
     "metadata": {},
     "output_type": "display_data"
    },
    {
     "data": {
      "text/plain": "<Figure size 640x480 with 1 Axes>",
      "image/png": "[encoded data removed]"
     },
     "metadata": {},
     "output_type": "display_data"
    }
   ]
  },
  {
   "metadata": {
    "_cell_guid": "fdc1708f-5fbd-4f25-a2d3-191a84e66a29",
    "_uuid": "fd58413b3fdfe7e8b4454c52822af1a1cc32d8d7",
    "collapsed": true,
    "trusted": false,
    "ExecuteTime": {
     "end_time": "2023-07-13T21:22:05.752922500Z",
     "start_time": "2023-07-13T21:22:05.726481600Z"
    }
   },
   "cell_type": "code",
   "source": [
    "# Cabin\n",
    "# It has a lot of NaN values, so it won't cause a remarkable impact on prediction in this simple model\n",
    "titanic_df.drop(\"Cabin\", axis=1, inplace=True)\n",
    "test_df.drop(\"Cabin\", axis=1, inplace=True)"
   ],
   "execution_count": 8,
   "outputs": []
  },
  {
   "metadata": {
    "_cell_guid": "088600e9-ca97-4dc0-b776-86f8e840ef85",
    "_uuid": "0225a6a73f121a5244e812501e5fe66b8d8384e9",
    "trusted": false,
    "collapsed": true,
    "ExecuteTime": {
     "end_time": "2023-07-13T21:22:05.752922500Z",
     "start_time": "2023-07-13T21:22:05.730201500Z"
    }
   },
   "cell_type": "code",
   "source": [
    "# Age \n",
    "# get average, std, and number of NaN values in titanic_df\n",
    "average_age_titanic = titanic_df[\"Age\"].mean()\n",
    "std_age_titanic = titanic_df[\"Age\"].std()\n",
    "count_nan_age_titanic = titanic_df[\"Age\"].isnull().sum()\n",
    "\n",
    "# get average, std, and number of NaN values in test_df\n",
    "average_age_test = test_df[\"Age\"].mean()\n",
    "std_age_test = test_df[\"Age\"].std()\n",
    "count_nan_age_test = test_df[\"Age\"].isnull().sum()\n",
    "\n",
    "# generate random numbers between (mean - std) & (mean + std)\n",
    "rand_1 = np.random.randint(average_age_titanic - std_age_titanic, average_age_titanic + std_age_titanic,\n",
    "                           size=count_nan_age_titanic)\n",
    "rand_2 = np.random.randint(average_age_test - std_age_test, average_age_test + std_age_test, size=count_nan_age_test)\n",
    "\n",
    "# drop all null values, and convert to int\n",
    "titanic_df['Age'].dropna().astype(int)\n",
    "# test_df['Age'].dropna().astype(int).hist(bins=70, ax=axis1)\n",
    "\n",
    "# fill NaN values in Age column with random values generated\n",
    "titanic_df[\"Age\"][np.isnan(titanic_df[\"Age\"])] = rand_1\n",
    "test_df[\"Age\"][np.isnan(test_df[\"Age\"])] = rand_2\n",
    "\n",
    "# convert from float to int\n",
    "titanic_df['Age'] = titanic_df['Age'].astype(int)\n",
    "test_df['Age'] = test_df['Age'].astype(int)"
   ],
   "execution_count": 9,
   "outputs": [
    {
     "name": "stderr",
     "output_type": "stream",
     "text": [
      "C:\\Users\\Usuario\\AppData\\Local\\Temp\\ipykernel_15408\\2818187047.py:21: SettingWithCopyWarning: \n",
      "A value is trying to be set on a copy of a slice from a DataFrame\n",
      "\n",
      "See the caveats in the documentation: https://pandas.pydata.org/pandas-docs/stable/user_guide/indexing.html#returning-a-view-versus-a-copy\n",
      "  titanic_df[\"Age\"][np.isnan(titanic_df[\"Age\"])] = rand_1\n",
      "C:\\Users\\Usuario\\AppData\\Local\\Temp\\ipykernel_15408\\2818187047.py:22: SettingWithCopyWarning: \n",
      "A value is trying to be set on a copy of a slice from a DataFrame\n",
      "\n",
      "See the caveats in the documentation: https://pandas.pydata.org/pandas-docs/stable/user_guide/indexing.html#returning-a-view-versus-a-copy\n",
      "  test_df[\"Age\"][np.isnan(test_df[\"Age\"])] = rand_2\n"
     ]
    }
   ]
  },
  {
   "metadata": {
    "_cell_guid": "cdfb5464-2f89-4dc4-872c-d429dcf4b8f2",
    "_uuid": "14e53e412fe95b255c4c66f07bacdcaa70ad7dd9",
    "trusted": false,
    "collapsed": true,
    "ExecuteTime": {
     "end_time": "2023-07-13T21:22:05.848514500Z",
     "start_time": "2023-07-13T21:22:05.741408300Z"
    }
   },
   "cell_type": "code",
   "source": [
    "import seaborn as sns\n",
    "import matplotlib.pyplot as plt\n",
    "\n",
    "\n",
    "# As we see, children(age < ~16) on aboard seem to have a high chances for Survival.\n",
    "# So, we can classify passengers as males, females, and child\n",
    "def get_person(passenger):\n",
    "    age, sex = passenger\n",
    "    return 'child' if age < 16 else sex\n",
    "\n",
    "\n",
    "titanic_df['Person'] = titanic_df[['Age', 'Sex']].apply(get_person, axis=1)\n",
    "test_df['Person'] = test_df[['Age', 'Sex']].apply(get_person, axis=1)\n",
    "\n",
    "# No need to use Sex column since we created Person column\n",
    "titanic_df.drop(['Sex'], axis=1, inplace=True)\n",
    "test_df.drop(['Sex'], axis=1, inplace=True)\n",
    "\n",
    "# create dummy variables for Person column, & drop Male as it has the lowest average of survived passengers\n",
    "person_dummies_titanic = pd.get_dummies(titanic_df['Person'])\n",
    "person_dummies_titanic.columns = ['Child', 'Female', 'Male']\n",
    "person_dummies_titanic.drop(['Male'], axis=1, inplace=True)\n",
    "\n",
    "person_dummies_test = pd.get_dummies(test_df['Person'])\n",
    "person_dummies_test.columns = ['Child', 'Female', 'Male']\n",
    "person_dummies_test.drop(['Male'], axis=1, inplace=True)\n",
    "\n",
    "titanic_df = titanic_df.join(person_dummies_titanic)\n",
    "test_df = test_df.join(person_dummies_test)\n",
    "\n",
    "fig, (axis1, axis2) = plt.subplots(1, 2, figsize=(10, 5))\n",
    "\n",
    "sns.countplot(x='Person', data=titanic_df, ax=axis1)\n",
    "\n",
    "# average of survived for each Person(male, female, or child)\n",
    "person_perc = titanic_df[[\"Person\", \"Survived\"]].groupby(['Person'], as_index=False).mean()\n",
    "sns.barplot(x='Person', y='Survived', data=person_perc, ax=axis2, order=['male', 'female', 'child'])\n",
    "\n",
    "titanic_df.drop(['Person'], axis=1, inplace=True)\n",
    "test_df.drop(['Person'], axis=1, inplace=True)"
   ],
   "execution_count": 10,
   "outputs": [
    {
     "data": {
      "text/plain": "<Figure size 1000x500 with 2 Axes>",
      "image/png": "[encoded data removed]"
     },
     "metadata": {},
     "output_type": "display_data"
    }
   ]
  },
  {
   "metadata": {
    "_cell_guid": "20d906f4-4450-4037-b466-d3d31da10479",
    "_uuid": "01285817befba9347f29c4f5912b62f53367233a",
    "collapsed": true,
    "trusted": false,
    "ExecuteTime": {
     "end_time": "2023-07-13T21:22:05.852020400Z",
     "start_time": "2023-07-13T21:22:05.850514100Z"
    }
   },
   "cell_type": "code",
   "source": [
    "# define training and testing sets\n",
    "\n",
    "X_train = titanic_df.drop(\"Survived\", axis=1)\n",
    "Y_train = titanic_df[\"Survived\"]\n",
    "X_test = test_df.drop(\"PassengerId\", axis=1).copy()"
   ],
   "execution_count": 11,
   "outputs": []
  },
  {
   "metadata": {
    "_cell_guid": "8a882725-e7c4-432b-9e4e-659de4600303",
    "_uuid": "46f5bbf67834889b41c707137c3c6f49f57af950",
    "trusted": false,
    "collapsed": true,
    "ExecuteTime": {
     "end_time": "2023-07-13T21:22:05.903608200Z",
     "start_time": "2023-07-13T21:22:05.852020400Z"
    }
   },
   "cell_type": "code",
   "source": [
    "# Logistic Regression\n",
    "\n",
    "logreg = LogisticRegression()\n",
    "\n",
    "logreg.fit(X_train, Y_train)\n",
    "\n",
    "Y_pred = logreg.predict(X_test)\n",
    "\n",
    "logreg.score(X_train, Y_train)"
   ],
   "execution_count": 12,
   "outputs": [
    {
     "name": "stderr",
     "output_type": "stream",
     "text": [
      "D:\\Documentos\\GitHub\\Proyecto_CicloDeVida_UEM_TRAIN\\venv\\Lib\\site-packages\\sklearn\\linear_model\\_logistic.py:460: ConvergenceWarning: lbfgs failed to converge (status=1):\n",
      "STOP: TOTAL NO. of ITERATIONS REACHED LIMIT.\n",
      "\n",
      "Increase the number of iterations (max_iter) or scale the data as shown in:\n",
      "    https://scikit-learn.org/stable/modules/preprocessing.html\n",
      "Please also refer to the documentation for alternative solver options:\n",
      "    https://scikit-learn.org/stable/modules/linear_model.html#logistic-regression\n",
      "  n_iter_i = _check_optimize_result(\n"
     ]
    },
    {
     "data": {
      "text/plain": "0.8226711560044894"
     },
     "execution_count": 12,
     "metadata": {},
     "output_type": "execute_result"
    }
   ]
  },
  {
   "metadata": {
    "_cell_guid": "fb5babf3-8937-4db7-b120-b742e14da44f",
    "_uuid": "74150267911cd39f786ebfd86d553fee902ebc9c",
    "trusted": false,
    "collapsed": true,
    "ExecuteTime": {
     "end_time": "2023-07-13T21:22:05.928148600Z",
     "start_time": "2023-07-13T21:22:05.872076Z"
    }
   },
   "cell_type": "code",
   "source": [
    "#Support Vector Machines\n",
    "\n",
    "svc = SVC()\n",
    "\n",
    "svc.fit(X_train, Y_train)\n",
    "\n",
    "Y_pred = svc.predict(X_test)\n",
    "\n",
    "svc.score(X_train, Y_train)"
   ],
   "execution_count": 13,
   "outputs": [
    {
     "data": {
      "text/plain": "0.6812570145903479"
     },
     "execution_count": 13,
     "metadata": {},
     "output_type": "execute_result"
    }
   ]
  },
  {
   "metadata": {
    "_cell_guid": "27476379-e949-4480-a282-8138c8f04580",
    "_uuid": "9bc380c6ccbed68592e8e708c9fb45c14915680a",
    "trusted": false,
    "collapsed": true,
    "ExecuteTime": {
     "end_time": "2023-07-13T21:22:06.075765600Z",
     "start_time": "2023-07-13T21:22:05.913641700Z"
    }
   },
   "cell_type": "code",
   "source": [
    "# Random Forests\n",
    "\n",
    "random_forest = RandomForestClassifier(n_estimators=100, oob_score=True, max_features=5)\n",
    "\n",
    "random_forest.fit(X_train, Y_train)\n",
    "\n",
    "Y_pred = random_forest.predict(X_test)\n",
    "\n",
    "random_forest.score(X_train, Y_train)"
   ],
   "execution_count": 14,
   "outputs": [
    {
     "data": {
      "text/plain": "0.9663299663299664"
     },
     "execution_count": 14,
     "metadata": {},
     "output_type": "execute_result"
    }
   ]
  },
  {
   "metadata": {
    "_cell_guid": "814d095d-1780-4c0e-bf0e-0caef25a46ee",
    "_uuid": "a62a8ae6baac52c88b34a8c5ec83cb85589f59b5",
    "trusted": false,
    "collapsed": true,
    "ExecuteTime": {
     "end_time": "2023-07-13T21:22:06.088410700Z",
     "start_time": "2023-07-13T21:22:06.076765900Z"
    }
   },
   "cell_type": "code",
   "source": [
    "random_forest.get_params, random_forest.feature_importances_"
   ],
   "execution_count": 15,
   "outputs": [
    {
     "data": {
      "text/plain": "(<bound method BaseEstimator.get_params of RandomForestClassifier(max_features=5, oob_score=True)>,\n array([0.10395205, 0.28840566, 0.06084188, 0.03277389, 0.1976836 ,\n        0.02366798, 0.01751243, 0.03151722, 0.24364528]))"
     },
     "execution_count": 15,
     "metadata": {},
     "output_type": "execute_result"
    }
   ]
  },
  {
   "metadata": {
    "_cell_guid": "ef553cf8-e958-4029-979c-52ef181c7153",
    "_uuid": "894860dbf49f2cf1e7c63b230d5b228db2ace9c0",
    "trusted": false,
    "collapsed": true,
    "ExecuteTime": {
     "end_time": "2023-07-13T21:22:06.782702400Z",
     "start_time": "2023-07-13T21:22:06.090409500Z"
    }
   },
   "cell_type": "code",
   "source": [
    "# Gradient Boosts\n",
    "grad_boost = GradientBoostingClassifier(n_estimators=1000)\n",
    "grad_boost.fit(X_train, Y_train)\n",
    "Y_pred = grad_boost.predict(X_test)\n",
    "grad_boost.score(X_train, Y_train)"
   ],
   "execution_count": 16,
   "outputs": [
    {
     "data": {
      "text/plain": "0.9539842873176206"
     },
     "execution_count": 16,
     "metadata": {},
     "output_type": "execute_result"
    }
   ]
  },
  {
   "metadata": {
    "_cell_guid": "46d42b4d-88c0-41db-868e-2f6466e5284a",
    "_uuid": "bcb6ca9da42e0f6647a2e87d4f4ce157de16af13",
    "trusted": false,
    "collapsed": true,
    "ExecuteTime": {
     "end_time": "2023-07-13T21:22:06.787560200Z",
     "start_time": "2023-07-13T21:22:06.782702400Z"
    }
   },
   "cell_type": "code",
   "source": [
    "# get Correlation Coefficient for each feature using Logistic Regression\n",
    "coeff_df = DataFrame(titanic_df.columns.delete(0))\n",
    "coeff_df.columns = ['Features']\n",
    "coeff_df[\"Coefficient Estimate\"] = pd.Series(logreg.coef_[0])\n",
    "\n",
    "# preview\n",
    "coeff_df"
   ],
   "execution_count": 17,
   "outputs": [
    {
     "data": {
      "text/plain": "  Features  Coefficient Estimate\n0   Pclass             -0.985916\n1      Age             -0.023177\n2    SibSp             -0.410953\n3    Parch             -0.188284\n4     Fare              0.002888\n5        C              0.426890\n6        Q              0.237739\n7    Child              2.493027\n8   Female              2.944916",
      "text/html": "<div>\n<style scoped>\n    .dataframe tbody tr th:only-of-type {\n        vertical-align: middle;\n    }\n\n    .dataframe tbody tr th {\n        vertical-align: top;\n    }\n\n    .dataframe thead th {\n        text-align: right;\n    }\n</style>\n<table border=\"1\" class=\"dataframe\">\n  <thead>\n    <tr style=\"text-align: right;\">\n      <th></th>\n      <th>Features</th>\n      <th>Coefficient Estimate</th>\n    </tr>\n  </thead>\n  <tbody>\n    <tr>\n      <th>0</th>\n      <td>Pclass</td>\n      <td>-0.985916</td>\n    </tr>\n    <tr>\n      <th>1</th>\n      <td>Age</td>\n      <td>-0.023177</td>\n    </tr>\n    <tr>\n      <th>2</th>\n      <td>SibSp</td>\n      <td>-0.410953</td>\n    </tr>\n    <tr>\n      <th>3</th>\n      <td>Parch</td>\n      <td>-0.188284</td>\n    </tr>\n    <tr>\n      <th>4</th>\n      <td>Fare</td>\n      <td>0.002888</td>\n    </tr>\n    <tr>\n      <th>5</th>\n      <td>C</td>\n      <td>0.426890</td>\n    </tr>\n    <tr>\n      <th>6</th>\n      <td>Q</td>\n      <td>0.237739</td>\n    </tr>\n    <tr>\n      <th>7</th>\n      <td>Child</td>\n      <td>2.493027</td>\n    </tr>\n    <tr>\n      <th>8</th>\n      <td>Female</td>\n      <td>2.944916</td>\n    </tr>\n  </tbody>\n</table>\n</div>"
     },
     "execution_count": 17,
     "metadata": {},
     "output_type": "execute_result"
    }
   ]
  },
  {
   "metadata": {
    "_cell_guid": "12b2eed7-68c5-48ca-9c19-3d4301ea4ca8",
    "_uuid": "3974e5e4ec2681fd99f42e6b5a730d44ab84dbd2",
    "collapsed": true,
    "trusted": false,
    "ExecuteTime": {
     "end_time": "2023-07-13T21:22:06.797729300Z",
     "start_time": "2023-07-13T21:22:06.788561100Z"
    }
   },
   "cell_type": "code",
   "source": [
    "submission = pd.DataFrame({\n",
    "    \"PassengerId\": test_df[\"PassengerId\"],\n",
    "    \"Survived\": Y_pred\n",
    "})\n",
    "submission.to_csv('titanic.csv', index=False)"
   ],
   "execution_count": 18,
   "outputs": []
  }
 ],
 "metadata": {
  "kernelspec": {
   "display_name": "Python 3",
   "language": "python",
   "name": "python3"
  },
  "language_info": {
   "name": "python",
   "codemirror_mode": {
    "name": "ipython",
    "version": 3
   },
   "nbconvert_exporter": "python",
   "version": "3.6.4",
   "mimetype": "text/x-python",
   "pygments_lexer": "ipython3",
   "file_extension": ".py"
  }
 },
 "nbformat": 4,
 "nbformat_minor": 1
}
